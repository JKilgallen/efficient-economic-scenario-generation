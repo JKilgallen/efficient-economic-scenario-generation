{
 "cells": [
  {
   "cell_type": "code",
   "execution_count": 2,
   "metadata": {},
   "outputs": [],
   "source": [
    "import jax\n",
    "import jax.numpy as jnp\n",
    "from jax import jit, vmap\n",
    "\n",
    "import matplotlib.pyplot as plt\n",
    "from cProfile import Profile\n"
   ]
  },
  {
   "cell_type": "code",
   "execution_count": 3,
   "metadata": {},
   "outputs": [],
   "source": [
    "def correlate_weiner_process(X, sigma, dt):\n",
    "    L = jnp.linalg.cholesky(sigma).T\n",
    "    return jnp.sqrt(dt) * L @ X\n",
    "\n",
    "def update_process(xt, dt, alpha, mu, sigma, dZt):\n",
    "    dxt_drift = alpha * (mu - xt) * dt\n",
    "    dxt_stochastic_variation = sigma * jnp.sqrt(xt) * dZt\n",
    "\n",
    "    return xt + dxt_drift + dxt_stochastic_variation\n",
    "\n",
    "def generate_process(x0, alpha, mu, sigma, dZ):\n",
    "    x = jnp.zeros(len(dZ))\n",
    "    x.at[0].set(x0)\n",
    "\n",
    "    for i in range(1, len(dZ)):\n",
    "        x = x.at[i].set(update_process(x[i-1], 1, alpha, mu, sigma, dZ[i]))\n",
    "    \n",
    "    return x"
   ]
  },
  {
   "cell_type": "code",
   "execution_count": 4,
   "metadata": {},
   "outputs": [
    {
     "name": "stderr",
     "output_type": "stream",
     "text": [
      "CUDA backend failed to initialize: jaxlib/cuda/versions_helpers.cc:98: operation cuInit(0) failed: CUDA_ERROR_UNKNOWN (Set TF_CPP_MIN_LOG_LEVEL=0 and rerun for more info.)\n"
     ]
    }
   ],
   "source": [
    "n_years = 100\n",
    "dt = 1 / 12\n",
    "\n",
    "n_factors = 2\n",
    "key = jax.random.PRNGKey(0)\n",
    "X = jax.random.normal(key=key, shape=(n_factors, n_years))\n",
    "\n",
    "rho = - 0.739\n",
    "weiner_sigma = jnp.array([[1, rho], [rho, 1]])\n",
    "weiner_L = jnp.linalg.cholesky(weiner_sigma).T\n",
    "\n",
    "dZ = correlate_weiner_process(X, weiner_L, dt)\n",
    "\n",
    "# Initial values\n",
    "x_10 = 0.0228\n",
    "x_20 = 0.0809\n",
    "# Parameters\n",
    "a_1 = 1.0682\n",
    "m_1 = 0.0546\n",
    "s_1 = 0.0412\n",
    "a_2 = 0.0469\n",
    "m_2 = 0.0778\n",
    "s_2 = 0.0287\n",
    "\n",
    "\n",
    "with Profile() as profile:\n",
    "    x_1 = generate_process(x_10, a_1, m_1, s_1, dZ[0])\n",
    "    x_2 = generate_process(x_20, a_2, m_2, s_2, dZ[1])\n",
    "\n",
    "    phi = 0.045 - (x_10 + x_20)\n",
    "    n = phi + x_1 + x_2\n",
    "    print(profile.print_stats())\n",
    "\n",
    "# plt.plot(n)"
   ]
  },
  {
   "cell_type": "code",
   "execution_count": 5,
   "metadata": {},
   "outputs": [
    {
     "ename": "NameError",
     "evalue": "name 'vmapp' is not defined",
     "output_type": "error",
     "traceback": [
      "\u001b[0;31m---------------------------------------------------------------------------\u001b[0m",
      "\u001b[0;31mNameError\u001b[0m                                 Traceback (most recent call last)",
      "Cell \u001b[0;32mIn[5], line 10\u001b[0m\n\u001b[1;32m      7\u001b[0m key \u001b[38;5;241m=\u001b[39m jax\u001b[38;5;241m.\u001b[39mrandom\u001b[38;5;241m.\u001b[39mPRNGKey(\u001b[38;5;241m0\u001b[39m)\n\u001b[1;32m      8\u001b[0m X \u001b[38;5;241m=\u001b[39m jax\u001b[38;5;241m.\u001b[39mrandom\u001b[38;5;241m.\u001b[39mnormal(key\u001b[38;5;241m=\u001b[39mkey, shape\u001b[38;5;241m=\u001b[39m(n_simulations, n_factors, n_years))\n\u001b[0;32m---> 10\u001b[0m X \u001b[38;5;241m=\u001b[39m \u001b[43mvmapp\u001b[49m(\u001b[38;5;28;01mlambda\u001b[39;00m x: jax\u001b[38;5;241m.\u001b[39mrandom\u001b[38;5;241m.\u001b[39mnormal(key\u001b[38;5;241m=\u001b[39mx, shape\u001b[38;5;241m=\u001b[39m(n_factors, n_years)), jnp\u001b[38;5;241m.\u001b[39marange(n_simulations))\n\u001b[1;32m     12\u001b[0m dZ \u001b[38;5;241m=\u001b[39m vmap(\u001b[38;5;28;01mlambda\u001b[39;00m x: correlate_weiner_process(x, weiner_L, dt))(X)\n\u001b[1;32m     14\u001b[0m x_1 \u001b[38;5;241m=\u001b[39m vmap(\u001b[38;5;28;01mlambda\u001b[39;00m dZ: generate_process(x_10, a_1, m_1, s_1, dZ))(dZ)\n",
      "\u001b[0;31mNameError\u001b[0m: name 'vmapp' is not defined"
     ]
    }
   ],
   "source": [
    "# For the initial values provided perform 1000 simulations\n",
    "\n",
    "n_simulations = 1000\n",
    "n_years = 100\n",
    "n_factors = 2\n",
    "\n",
    "key = jax.random.PRNGKey(0)\n",
    "X = jax.random.normal(key=key, shape=(n_simulations, n_factors, n_years))\n",
    "\n",
    "X = vmapp(lambda x: jax.random.normal(key=x, shape=(n_factors, n_years)), jnp.arange(n_simulations))\n",
    "\n",
    "dZ = vmap(lambda x: correlate_weiner_process(x, weiner_L, dt))(X)\n",
    "\n",
    "x_1 = vmap(lambda dZ: generate_process(x_10, a_1, m_1, s_1, dZ))(dZ)\n",
    "x_2 = vmap(lambda dZ: generate_process(x_20, a_2, m_2, s_2, dZ))(dZ)\n",
    "\n",
    "phi = 0.045 - (x_10 + x_20)\n",
    "\n",
    "n = phi + x_1 + x_2\n",
    "\n",
    "plt.plot(n.T)\n",
    "\n",
    "plt.show()\n",
    "\n"
   ]
  }
 ],
 "metadata": {
  "kernelspec": {
   "display_name": "Python 3",
   "language": "python",
   "name": "python3"
  },
  "language_info": {
   "codemirror_mode": {
    "name": "ipython",
    "version": 3
   },
   "file_extension": ".py",
   "mimetype": "text/x-python",
   "name": "python",
   "nbconvert_exporter": "python",
   "pygments_lexer": "ipython3",
   "version": "3.12.3"
  }
 },
 "nbformat": 4,
 "nbformat_minor": 2
}

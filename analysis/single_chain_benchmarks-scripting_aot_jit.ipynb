{
 "cells": [
  {
   "cell_type": "markdown",
   "id": "6bb49c65-1cbd-4558-a7b2-cbf525e637ad",
   "metadata": {},
   "source": [
    "## Benchmarking a single CIR process chain\n",
    "\n",
    "by Antoni Sieminski"
   ]
  },
  {
   "cell_type": "markdown",
   "id": "e1121dc2-ad5b-4fdf-89ef-f6e56ca975ce",
   "metadata": {},
   "source": [
    "### Executive summary\n",
    "\n",
    "This notebook benchmarks a single run of the CIR process using a CPU. We examine the following settings:\n",
    "\n",
    "1) No compilation.\n",
    "    - Timing should be similar to base R.\n",
    "2) Ahead-of-time (AOT) compilation.\n",
    "    - This setting compiles the code to run on different machines with a wide variety of inputs.\n",
    "    - Assuming good software engineering, the performance here should be similar to that of Hymans Robertson's C# code.\n",
    "3) Just-in-time (JIT) compilation.\n",
    "    - First run takes longer as it compiles the code to optimise w.r.t. to the specific hardware it's run on and to the supplied function inputs.\n",
    "\n",
    "Results:\n",
    "- Some compilation is necessary, but JIT was only twice faster than AOT-compiled code.\n",
    "- Combined with the additional compilation time of JIT, it might not be the best approch for this problem.\n",
    "\n",
    "Limitations:\n",
    "- The biggest parallelisation gains stem from having a large number of chains, which can be vectorised (or rather tensorised) at each iteration.\n",
    "- This analysis looked at processing only a single chain on a CPU.\n",
    "- It could be relevant if the chains were run on a cluster, but GPU computing seems like a much easier way to parallelise the computation."
   ]
  },
  {
   "cell_type": "code",
   "execution_count": 3,
   "id": "4b8096df-bee4-4264-b119-3ed4b12966aa",
   "metadata": {},
   "outputs": [
    {
     "data": {
      "text/plain": [
       "array([[1.        , 0.        ],\n",
       "       [0.739     , 0.67370543]])"
      ]
     },
     "execution_count": 3,
     "metadata": {},
     "output_type": "execute_result"
    }
   ],
   "source": [
    "import numpy as np\n",
    "\n",
    "#parameters\n",
    "nYears = 100\n",
    "dt= 1/12\n",
    "nFactors=2\n",
    "nTrials = 1\n",
    "rho = 0.739 \n",
    "weinerSigma = np.array([[1, rho],\n",
    "                        [rho, 1]])\n",
    "weinerL = np.linalg.cholesky(weinerSigma)\n",
    "weinerL"
   ]
  },
  {
   "cell_type": "code",
   "execution_count": 4,
   "id": "0dc2c86f-12f8-40fc-9c51-edbfb4a51544",
   "metadata": {},
   "outputs": [],
   "source": [
    "#initial_values\n",
    "x_10 = 0.0228\n",
    "x_20 = 0.0809\n",
    "\n",
    "#more parameters (alpha etc)\n",
    "a_1 = 1.0682\n",
    "m_1 = 0.0546\n",
    "s_1 = 0.0412\n",
    "a_2 = 0.0469\n",
    "m_2 = 0.0778\n",
    "s_2 = 0.0287"
   ]
  },
  {
   "cell_type": "markdown",
   "id": "d5edbd62-0db5-48d5-9314-1b58941a2272",
   "metadata": {},
   "source": [
    "### 1) No compilation"
   ]
  },
  {
   "cell_type": "code",
   "execution_count": 5,
   "id": "6797379b-9cc5-4441-8257-dd9624086b12",
   "metadata": {},
   "outputs": [],
   "source": [
    "\n",
    "\n",
    "\n",
    "def correlate_weiner_process(X, L, dt):\n",
    "    return np.sqrt(dt) * np.dot(L, X)\n",
    "\n",
    "def compute_dxt(xt, dt, alpha, mu, sigma, dZt):\n",
    "    \"\"\"\n",
    "    Parameters:\n",
    "    - xt: Current value of the process\n",
    "    - dt: Time increment\n",
    "    - alpha: Speed of reversion\n",
    "    - mu: Long-term mean of the process\n",
    "    - sigma: Volatility parameter\n",
    "    - dZt: Random increment from a normal distribution\n",
    "\n",
    "    Returns:\n",
    "    - Updated process value\n",
    "    \"\"\"\n",
    "    dxt_drift = alpha * (mu - xt) * dt\n",
    "    dxt_stochastic_variation = sigma * np.sqrt(xt) * dZt  \n",
    "    return dxt_drift + dxt_stochastic_variation\n",
    "\n",
    "def generate_process_cir_py(x0, dt, alpha, mu, sigma, dZ):\n",
    "    \"\"\"\n",
    "    Generate a trajectory of the CIR process.\n",
    "\n",
    "    Parameters:\n",
    "    - x0: Initial value of the process\n",
    "    - dt: Time increment\n",
    "    - alpha: Speed of reversion\n",
    "    - mu: Long-term mean of the process\n",
    "    - sigma: Volatility parameter\n",
    "    - dZ: Array of random increments from a normal distribution\n",
    "\n",
    "    Returns:\n",
    "    - Array of process values\n",
    "    \"\"\"\n",
    "    xt = x0\n",
    "    for dZt in dZ:\n",
    "        xt += compute_dxt(xt, dt, alpha, mu, sigma, dZt)\n",
    "    return xt"
   ]
  },
  {
   "cell_type": "code",
   "execution_count": 6,
   "id": "8d0f6bb5-7746-41d0-8f33-313aa20c024b",
   "metadata": {},
   "outputs": [],
   "source": [
    "#random variable X, (2,nfactors*nYears/dt) matrix \n",
    "X = np.random.normal(size=int(nFactors * nYears / dt)).astype(np.float32).reshape(2, -1)\n",
    "#find dZ\n",
    "dZ = correlate_weiner_process(X,weinerL,dt).astype(np.float32)[0,:]"
   ]
  },
  {
   "cell_type": "code",
   "execution_count": 7,
   "id": "12d97753-c8b3-4a28-9f46-7baa3af266dc",
   "metadata": {},
   "outputs": [
    {
     "name": "stdout",
     "output_type": "stream",
     "text": [
      "2.29 ms ± 166 µs per loop (mean ± std. dev. of 7 runs, 100 loops each)\n"
     ]
    }
   ],
   "source": [
    "%timeit x_1 = generate_process_cir_py(x_10, dt, a_1, m_1, s_1, dZ)"
   ]
  },
  {
   "cell_type": "markdown",
   "id": "266c58a3-2fc3-430a-af88-04c646d2b867",
   "metadata": {},
   "source": [
    "### 2) Ahead-of-time compilation (Cython)"
   ]
  },
  {
   "cell_type": "code",
   "execution_count": 8,
   "id": "7f11f94d-4517-49d6-a1fe-7e8c4431e816",
   "metadata": {},
   "outputs": [],
   "source": [
    "%load_ext cython"
   ]
  },
  {
   "cell_type": "code",
   "execution_count": 10,
   "id": "389b3ca2-226f-4aff-81f1-34f441864ad4",
   "metadata": {},
   "outputs": [],
   "source": [
    "%%cython\n",
    "from libc.math cimport sqrt\n",
    "import numpy as np\n",
    "cimport numpy as np\n",
    "\n",
    "cdef inline float updateProcessValue_cir(float xt, float dt, float alpha, float mu, float sigma, float dZt):\n",
    "    cdef float dxt_drift = alpha * (mu - xt) * dt\n",
    "    cdef float dxt_stochastic_variation = sigma * sqrt(xt) * dZt\n",
    "    return xt + dxt_drift + dxt_stochastic_variation\n",
    "\n",
    "# Improved performance by using memoryviews and reducing Python calls\n",
    "def generateProcess_cir(float x0, float dt, float alpha, float mu, float sigma, float[:] dZ):\n",
    "    cdef int T = dZ.shape[0]\n",
    "    cdef float[:] x = np.empty(T + 1, dtype=np.float32)\n",
    "    cdef int t\n",
    "    cdef float xt = x0\n",
    "\n",
    "    x[0] = x0\n",
    "    for t in range(1, T + 1): \n",
    "        xt = updateProcessValue_cir(xt, dt, alpha, mu, sigma, dZ[t-1])\n",
    "        x[t] = xt\n",
    "    return x\n"
   ]
  },
  {
   "cell_type": "code",
   "execution_count": 11,
   "id": "5c13ba51-3f9c-4d6b-890d-3e71014d44e1",
   "metadata": {},
   "outputs": [
    {
     "name": "stdout",
     "output_type": "stream",
     "text": [
      "17.9 µs ± 293 ns per loop (mean ± std. dev. of 7 runs, 100,000 loops each)\n"
     ]
    }
   ],
   "source": [
    "# Call the Cython function\n",
    "%timeit result = generateProcess_cir(x_10, dt, a_1, m_1, s_1, dZ)\n"
   ]
  },
  {
   "cell_type": "markdown",
   "id": "e9955eb7-5832-4739-87f2-cf55152bc410",
   "metadata": {},
   "source": [
    "## Just-in-time compilation (Numba)"
   ]
  },
  {
   "cell_type": "code",
   "execution_count": 15,
   "id": "6ee38437-36ee-43b0-878d-c85bd7106de0",
   "metadata": {},
   "outputs": [],
   "source": [
    "import numba\n",
    "compute_dxt = numba.jit(compute_dxt, nopython=True) # We overwrite the old function to make the code clearer\n",
    "generate_process_cir_numba = numba.jit(generate_process_cir_py, nopython=True)"
   ]
  },
  {
   "cell_type": "code",
   "execution_count": 16,
   "id": "0415c735-e68b-41b0-9620-0579483d512f",
   "metadata": {},
   "outputs": [
    {
     "name": "stdout",
     "output_type": "stream",
     "text": [
      "10.2 µs ± 672 ns per loop (mean ± std. dev. of 7 runs, 100,000 loops each)\n"
     ]
    }
   ],
   "source": [
    "# Force compilation\n",
    "result = generate_process_cir_numba(x_10, dt, a_1, m_1, s_1, dZ)\n",
    "# Timing after compilation\n",
    "%timeit result = generate_process_cir_numba(x_10, dt, a_1, m_1, s_1, dZ)"
   ]
  },
  {
   "cell_type": "markdown",
   "id": "a4334ece-c423-41a2-bfb0-829b5e48a382",
   "metadata": {},
   "source": [
    "## Appendix"
   ]
  },
  {
   "cell_type": "code",
   "execution_count": 42,
   "id": "6282cdfc-e6a6-4340-9eae-ee787c6c1c28",
   "metadata": {},
   "outputs": [],
   "source": [
    "# I tried to scale up the cython funciton to multiple dimensions\n",
    "# %%cython\n",
    "# from libc.math cimport sqrt\n",
    "# from cython.parallel import prange\n",
    "# import numpy as np\n",
    "# cimport numpy as np\n",
    "\n",
    "# cdef inline float updateProcessValue_cir(float xt, float dt, float alpha, float mu, float sigma, float dZt):\n",
    "#     cdef float dxt_drift = alpha * (mu - xt) * dt\n",
    "#     cdef float dxt_stochastic_variation = sigma * sqrt(xt) * dZt\n",
    "#     return xt + dxt_drift + dxt_stochastic_variation\n",
    "\n",
    "# def generateProcess_cir(float x0, float dt, float alpha, float mu, float sigma, float[:] dZ):\n",
    "#     cdef int T = dZ.shape[0]\n",
    "#     cdef float[:] x = np.empty(T + 1, dtype=np.float32)\n",
    "#     cdef int t\n",
    "#     cdef float xt = x0\n",
    "\n",
    "#     x[0] = x0\n",
    "#     for t in range(1, T + 1):\n",
    "#         xt = updateProcessValue_cir(xt, dt, alpha, mu, sigma, dZ[t-1])\n",
    "#         x[t] = xt\n",
    "#     return np.array(x)  # Convert memory view back to a NumPy array for usability outside Cython\n",
    "\n",
    "# def func(float x0, float dt, float alpha, float mu, float sigma, float[:,:] dZQ):\n",
    "#     cdef int num_simulations = dZQ.shape[0]\n",
    "#     cdef int num_points = dZQ.shape[1]\n",
    "#     cdef float[:,:] Xt = np.empty((num_simulations, num_points + 1), dtype=np.float32)  # +1 for the initial value\n",
    "#     cdef Py_ssize_t j, i\n",
    "\n",
    "#     for j in prange(num_simulations, nogil=True):\n",
    "#         Xt[j, 0] = x0  # Set initial value for each simulation\n",
    "#         for i in range(1, num_points + 1):\n",
    "#             Xt[j, i] = updateProcessValue_cir(Xt[j, i - 1], dt, alpha, mu, sigma, dZQ[j, i - 1])\n",
    "#     return np.array(Xt)  # Convert memory view to NumPy array\n"
   ]
  }
 ],
 "metadata": {
  "kernelspec": {
   "display_name": "Python 3 (ipykernel)",
   "language": "python",
   "name": "python3"
  },
  "language_info": {
   "codemirror_mode": {
    "name": "ipython",
    "version": 3
   },
   "file_extension": ".py",
   "mimetype": "text/x-python",
   "name": "python",
   "nbconvert_exporter": "python",
   "pygments_lexer": "ipython3",
   "version": "3.11.9"
  }
 },
 "nbformat": 4,
 "nbformat_minor": 5
}

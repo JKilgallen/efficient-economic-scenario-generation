{
 "cells": [
  {
   "cell_type": "code",
   "execution_count": 6,
   "id": "bfc18631-6758-42d1-81fa-87247e1ac20b",
   "metadata": {},
   "outputs": [],
   "source": [
    "import matplotlib.pyplot as plt\n",
    "import numpy as np\n",
    "import time"
   ]
  },
  {
   "cell_type": "code",
   "execution_count": 7,
   "id": "9efde114-096f-47b2-a2ff-58fd5613945e",
   "metadata": {},
   "outputs": [],
   "source": [
    "### define initial values\n",
    "n_years = 100\n",
    "dt = 1/12\n",
    "n_factors = 2\n",
    "n_trials = 10000\n",
    "rho = -0.739\n",
    "x0 = 0.0228\n",
    "y0 = 0.0809\n",
    "alpha_ls = np.matrix([1.0682,0.0469]).reshape(2,1)\n",
    "mu_ls = np.matrix([0.0546,0.0778]).reshape(2,1)\n",
    "sigma_ls = np.matrix([ 0.0412,0.0287]).reshape(2,1)"
   ]
  },
  {
   "cell_type": "code",
   "execution_count": 8,
   "id": "598ac798-8832-4048-a7a1-fcbf826a1d03",
   "metadata": {},
   "outputs": [],
   "source": [
    "### Correlated Weiner Process generation\n",
    "start = time.time()\n",
    "X = np.random.standard_normal((n_factors,int(n_years*1/dt),n_trials))\n",
    "x = np.matrix([x0,y0])\n",
    "\n",
    "start = time.time()\n",
    "corre_mat = np.matrix([1,rho,rho,1]).reshape(2,2)\n",
    "L = np.linalg.cholesky(corre_mat)\n",
    "correlateWeinerProcess = np.sqrt(dt)*(np.einsum('ij,ikl -> ikl',L,X))\n",
    "\n",
    "end1 = time.time()\n",
    "\n",
    "### just reshaping initial x vector and static parameters for tensor form\n",
    "x = np.zeros((2,1,n_trials))\n",
    "x[0,:,:] = x0\n",
    "x[1,:,:] = y0\n",
    "\n",
    "mu = np.zeros((2,1,n_trials))\n",
    "mu[0,:,:] = mu_ls[0]\n",
    "mu[1,:,:] = mu_ls[1]\n",
    "\n",
    "alpha = np.zeros((2,1,n_trials))\n",
    "alpha[0,:,:] = alpha_ls[0]\n",
    "alpha[1,:,:] = alpha_ls[1]\n",
    "\n",
    "sigma = np.zeros((2,1,n_trials))\n",
    "sigma[0,:,:] = sigma_ls[0]\n",
    "alpha[1,:,:] = sigma_ls[1]\n",
    "\n",
    "### time step loop\n",
    "final_x = [x]\n",
    "for i in range(int(n_years/dt)-1):\n",
    "    dzt = correlateWeinerProcess[:,i,:].reshape(2,1,n_trials)\n",
    "    xt = final_x[-1]\n",
    "    drift = np.einsum(',ijk->ijk',dt,np.einsum('ijk,ijk -> ijk', alpha, (mu-xt)))\n",
    "    diffusion = np.einsum('ijk,ijk->ijk',np.einsum('ijk,ijk->ijk',sigma,np.sqrt(xt)),dzt)\n",
    "    final_x.append(xt+drift+diffusion)\n",
    "\n",
    "### final calculations\n",
    "final_x = np.array(final_x)#.reshape(2,int(n_years/dt),n_trials)\n",
    "xt1 = np.sum(final_x,axis=1)\n",
    "phi = 0.045 - np.sum(x,axis=0)\n",
    "n = phi + xt1\n",
    "\n",
    "end = time.time()"
   ]
  },
  {
   "cell_type": "code",
   "execution_count": 12,
   "id": "473e92fb-4db7-4b58-83db-1b1d582fbee2",
   "metadata": {},
   "outputs": [
    {
     "name": "stdout",
     "output_type": "stream",
     "text": [
      "Weiner Process Time : 0.3673689365386963\n",
      "Time Step Iteration Process Time : 0.36202287673950195\n"
     ]
    }
   ],
   "source": [
    "print(f\"Weiner Process Time : {end1-start}\")\n",
    "print(f\"Time Step Iteration Process Time : {end-end1}\")"
   ]
  },
  {
   "cell_type": "code",
   "execution_count": null,
   "id": "04b7aaed-95ab-4162-be25-7adc59ee69fd",
   "metadata": {},
   "outputs": [],
   "source": []
  },
  {
   "cell_type": "code",
   "execution_count": null,
   "id": "1a5cf5d1-7f5a-425d-99eb-f122ffddedb4",
   "metadata": {},
   "outputs": [],
   "source": []
  },
  {
   "cell_type": "code",
   "execution_count": null,
   "id": "cb533873-ebbe-4331-871d-d9ca5f62e62e",
   "metadata": {},
   "outputs": [],
   "source": []
  }
 ],
 "metadata": {
  "kernelspec": {
   "display_name": "Python 3 (ipykernel)",
   "language": "python",
   "name": "python3"
  },
  "language_info": {
   "codemirror_mode": {
    "name": "ipython",
    "version": 3
   },
   "file_extension": ".py",
   "mimetype": "text/x-python",
   "name": "python",
   "nbconvert_exporter": "python",
   "pygments_lexer": "ipython3",
   "version": "3.11.8"
  }
 },
 "nbformat": 4,
 "nbformat_minor": 5
}
